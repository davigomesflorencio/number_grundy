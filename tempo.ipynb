{
 "cells": [
  {
   "cell_type": "code",
   "execution_count": 33,
   "metadata": {},
   "outputs": [
    {
     "name": "stdout",
     "output_type": "stream",
     "text": [
      "Column names are prob, vertices, arestas, densidade, pdg, bbgdelta, bbgstf, plidelta, plistf\n",
      "Processed 51 lines.\n",
      "64.66409999999999\n",
      "Column names are prob, vertices, arestas, densidade, pdg, bbgdelta, bbgstf, plidelta, plistf\n",
      "Processed 51 lines.\n",
      "453.31135499999993\n"
     ]
    }
   ],
   "source": [
    "import csv\n",
    "\n",
    "somad = 0 \n",
    "    \n",
    "with open('TabelasTCC/tempo_random.csv', mode='r') as csv_file:\n",
    "    csv_reader = csv.DictReader(csv_file)\n",
    "    line_count = 0\n",
    "    # soma = 0 \n",
    "    for row in csv_reader:\n",
    "        if line_count == 0:\n",
    "            print(f'Column names are {\", \".join(row)}')\n",
    "            line_count += 1\n",
    "        line_count += 1\n",
    "        if(row[\"prob\"]==\"0.9\"):\n",
    "            somad+=float(row[\"pdg\"])\n",
    "    print(f'Processed {line_count} lines.')\n",
    "\n",
    "print(somad)\n",
    "\n",
    "with open('TabelasTCC/tempo_random_p2.csv', mode='r') as csv_file:\n",
    "    csv_reader = csv.DictReader(csv_file)\n",
    "    line_count = 0\n",
    "    # soma = 0 \n",
    "    for row in csv_reader:\n",
    "        if line_count == 0:\n",
    "            print(f'Column names are {\", \".join(row)}')\n",
    "            line_count += 1\n",
    "        line_count += 1\n",
    "        if(row[\"prob\"]==\"0.9\"):\n",
    "            somad+=float(row[\"pdg\"])\n",
    "    print(f'Processed {line_count} lines.')\n",
    "\n",
    "print(somad/20)"
   ]
  },
  {
   "cell_type": "code",
   "execution_count": 2,
   "metadata": {},
   "outputs": [],
   "source": [
    "# import networkx as nx"
   ]
  },
  {
   "cell_type": "code",
   "execution_count": 3,
   "metadata": {},
   "outputs": [],
   "source": [
    "# for i in range(400):\n",
    "#     res1 = i * ((i*(i-1))/2) * (2.4423**i)\n",
    "#     res2 = i * 2 * (1.4423**2 * 2**i)\n",
    "#     if(res1 < res2):\n",
    "#         print(i, \" \", res1, \" < \", res2)\n",
    "#     else:\n",
    "#         print(i, \" \", res1, \" >= \", res2)\n"
   ]
  },
  {
   "cell_type": "code",
   "execution_count": 4,
   "metadata": {},
   "outputs": [],
   "source": [
    "# for n in range(2, 10):\n",
    "#     for m in range(3, 10):\n",
    "#         # dg = generateStackedBookGraph(n,m)\n",
    "#         # nx.draw(dg, with_labels=True)\n",
    "#         # config.k = 0\n",
    "#         dg = nx.read_gml(\"instancias/classe/classe_graph_{}_{}\".format(n, m), destringizer=int)\n",
    "#         print(max(nx.core_number(dg).values()))\n",
    "        "
   ]
  }
 ],
 "metadata": {
  "interpreter": {
   "hash": "916dbcbb3f70747c44a77c7bcd40155683ae19c65e1c03b4aa3499c5328201f1"
  },
  "kernelspec": {
   "display_name": "Python 3.8.10 64-bit",
   "language": "python",
   "name": "python3"
  },
  "language_info": {
   "codemirror_mode": {
    "name": "ipython",
    "version": 3
   },
   "file_extension": ".py",
   "mimetype": "text/x-python",
   "name": "python",
   "nbconvert_exporter": "python",
   "pygments_lexer": "ipython3",
   "version": "3.8.10"
  },
  "orig_nbformat": 4
 },
 "nbformat": 4,
 "nbformat_minor": 2
}
